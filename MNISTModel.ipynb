{
  "nbformat": 4,
  "nbformat_minor": 0,
  "metadata": {
    "colab": {
      "name": "MNISTModel.ipynb",
      "provenance": [],
      "collapsed_sections": [],
      "include_colab_link": true
    },
    "kernelspec": {
      "name": "python3",
      "display_name": "Python 3"
    }
  },
  "cells": [
    {
      "cell_type": "markdown",
      "metadata": {
        "id": "view-in-github",
        "colab_type": "text"
      },
      "source": [
        "<a href=\"https://colab.research.google.com/github/Sapch/MNIST/blob/master/MNISTModel.ipynb\" target=\"_parent\"><img src=\"https://colab.research.google.com/assets/colab-badge.svg\" alt=\"Open In Colab\"/></a>"
      ]
    },
    {
      "cell_type": "code",
      "metadata": {
        "id": "m4eZDEIAx0aH",
        "colab_type": "code",
        "colab": {
          "base_uri": "https://localhost:8080/",
          "height": 34
        },
        "outputId": "0ecbe1fc-c232-4c7d-9f6c-8d9d6d64493f"
      },
      "source": [
        "try:\n",
        "  # %tensorflow_version only exists in Colab.\n",
        "  %tensorflow_version 2.x\n",
        "except Exception:\n",
        "  pass"
      ],
      "execution_count": 1,
      "outputs": [
        {
          "output_type": "stream",
          "text": [
            "TensorFlow 2.x selected.\n"
          ],
          "name": "stdout"
        }
      ]
    },
    {
      "cell_type": "markdown",
      "metadata": {
        "id": "cApzS401HLzx",
        "colab_type": "text"
      },
      "source": [
        "I deicided to add a hidden layer to the NN model with 620 nodes to improve the model (found 620 nodes to produce accurate model).\n",
        "I used \"softmax\" activation function and compred the result with \"sigmoid\" function, based on the result sigmoid was producing a model with higher accuracy!\n",
        "By doing some research about which optimizer performs better, I found interesting research on https://medium.com/octavian-ai/which-optimizer-and-learning-rate-should-i-use-for-deep-learning-5acb418f9b2\n",
        "then I tried these optimizers,among them \"Adam\" was able to produce the best accuracy for this project.\n",
        "Then I played with number of iteration on the training data (epoches) and was able to produce a model with high accuracy, 99%+ on training data and 98%+ on test data."
      ]
    },
    {
      "cell_type": "code",
      "metadata": {
        "id": "ITCcIDcJx02Q",
        "colab_type": "code",
        "colab": {
          "base_uri": "https://localhost:8080/",
          "height": 581
        },
        "outputId": "fc974d0b-04c3-4d2c-c779-03b44b23b27b"
      },
      "source": [
        "import tensorflow as tf\n",
        "import numpy as np\n",
        "\n",
        "\n",
        "print(\"--Get data--\")\n",
        "mnist = tf.keras.datasets.mnist\n",
        "(x_train, y_train), (x_test, y_test) = mnist.load_data()\n",
        "\n",
        "print(\"--Process data--\")\n",
        "x_train, x_test = x_train / 255.0, x_test / 255.0\n",
        "\n",
        "print(\"--Make model--\")\n",
        "model = tf.keras.models.Sequential([\n",
        "  tf.keras.layers.Flatten(input_shape=(28, 28)),  #flatten 2D array to 1d array of 784 elements\n",
        "  tf.keras.layers.Dense(620, activation= 'relu'), #A hidden layer is added to NN with 620 dots,'relu' activation function seems to provide accurate result\n",
        "  tf.keras.layers.Dense(10, activation='sigmoid') \n",
        "])\n",
        "# I found \"Adam\" alg. to produce best result among Adadelta, Adagrad, Adam, Adamax, Ftrl, Nadam, RMSprop & SGD alg.\n",
        "model.compile(optimizer='adam', loss='sparse_categorical_crossentropy', metrics=['accuracy'])\n",
        "\n",
        "print(\"--Fit model--\")\n",
        "model.fit(x_train, y_train, epochs= 10, verbose=2)# I found 10 iteration to be enough to get to requested accuracy\n",
        "\n",
        "print(\"--Evaluate model--\")\n",
        "model_loss, model_acc = model.evaluate(x_test,  y_test, verbose=2)\n",
        "print(f\"Model Loss:    {model_loss:.2f}\")\n",
        "print(f\"Model Accuray: {model_acc*100:.1f}%\")"
      ],
      "execution_count": 22,
      "outputs": [
        {
          "output_type": "stream",
          "text": [
            "--Get data--\n",
            "--Process data--\n",
            "--Make model--\n",
            "--Fit model--\n",
            "WARNING:tensorflow:From /usr/local/lib/python3.6/dist-packages/tensorflow_core/python/ops/math_grad.py:1424: where (from tensorflow.python.ops.array_ops) is deprecated and will be removed in a future version.\n",
            "Instructions for updating:\n",
            "Use tf.where in 2.0, which has the same broadcast rule as np.where\n",
            "Train on 60000 samples\n",
            "Epoch 1/10\n",
            "60000/60000 - 10s - loss: 0.2140 - acc: 0.9376\n",
            "Epoch 2/10\n",
            "60000/60000 - 9s - loss: 0.0862 - acc: 0.9738\n",
            "Epoch 3/10\n",
            "60000/60000 - 9s - loss: 0.0557 - acc: 0.9827\n",
            "Epoch 4/10\n",
            "60000/60000 - 9s - loss: 0.0404 - acc: 0.9869\n",
            "Epoch 5/10\n",
            "60000/60000 - 9s - loss: 0.0290 - acc: 0.9907\n",
            "Epoch 6/10\n",
            "60000/60000 - 9s - loss: 0.0221 - acc: 0.9933\n",
            "Epoch 7/10\n",
            "60000/60000 - 9s - loss: 0.0186 - acc: 0.9938\n",
            "Epoch 8/10\n",
            "60000/60000 - 9s - loss: 0.0148 - acc: 0.9950\n",
            "Epoch 9/10\n",
            "60000/60000 - 9s - loss: 0.0133 - acc: 0.9956\n",
            "Epoch 10/10\n",
            "60000/60000 - 9s - loss: 0.0108 - acc: 0.9963\n",
            "--Evaluate model--\n",
            "10000/10000 - 1s - loss: 0.0679 - acc: 0.9838\n",
            "Model Loss:    0.07\n",
            "Model Accuray: 98.4%\n"
          ],
          "name": "stdout"
        }
      ]
    },
    {
      "cell_type": "markdown",
      "metadata": {
        "id": "TwyWURICHHfr",
        "colab_type": "text"
      },
      "source": [
        "Adadelta, Adagrad, Adam, Adamax, Ftrl, Nadam, Optimizer, RMSprop, SGD"
      ]
    },
    {
      "cell_type": "code",
      "metadata": {
        "id": "uqKuNbSJEaWc",
        "colab_type": "code",
        "colab": {}
      },
      "source": [
        "#Save Model to MNIST.\n",
        "model.save('MNIST.h5')"
      ],
      "execution_count": 0,
      "outputs": []
    },
    {
      "cell_type": "code",
      "metadata": {
        "id": "0Vc4ePZwERJW",
        "colab_type": "code",
        "colab": {}
      },
      "source": [
        "from google.colab import files\n",
        "#files.download('MNIST.h5')"
      ],
      "execution_count": 0,
      "outputs": []
    },
    {
      "cell_type": "markdown",
      "metadata": {
        "id": "XPiujea46TNt",
        "colab_type": "text"
      },
      "source": [
        "I am gonna plot the images to be able to see the actual picture vs the model prediction (human readable)"
      ]
    },
    {
      "cell_type": "code",
      "metadata": {
        "id": "RObbkYnr6Rmk",
        "colab_type": "code",
        "colab": {
          "base_uri": "https://localhost:8080/",
          "height": 1000
        },
        "outputId": "ef8eda6b-1d53-4d74-9066-c107e11abdd7"
      },
      "source": [
        "import matplotlib.pyplot as plt\n",
        "\n",
        "class_names =['Zero', 'One', 'Two', 'Three', 'Four',\n",
        "              'Five', 'Six', 'Seven', 'Eight', 'Nine']\n",
        "\n",
        "prediction = model.predict(x_test)\n",
        "\n",
        "for i in range(5):\n",
        "  plt.grid(False)\n",
        "  plt.imshow(x_test[i], cmap=plt.cm.binary)\n",
        "  #plt.xlabel(\"Actual number: \" + class_names[y_test[i]])\n",
        "  plt.title(\"Prediction: \" + class_names[np.argmax(prediction[i])])\n",
        "  plt.show()\n"
      ],
      "execution_count": 25,
      "outputs": [
        {
          "output_type": "display_data",
          "data": {
            "image/png": "[encoded data removed]",
            "text/plain": [
              "<Figure size 432x288 with 1 Axes>"
            ]
          },
          "metadata": {
            "tags": []
          }
        },
        {
          "output_type": "display_data",
          "data": {
            "image/png": "[encoded data removed]",
            "text/plain": [
              "<Figure size 432x288 with 1 Axes>"
            ]
          },
          "metadata": {
            "tags": []
          }
        },
        {
          "output_type": "display_data",
          "data": {
            "image/png": "[encoded data removed]",
            "text/plain": [
              "<Figure size 432x288 with 1 Axes>"
            ]
          },
          "metadata": {
            "tags": []
          }
        },
        {
          "output_type": "display_data",
          "data": {
            "image/png": "[encoded data removed]",
            "text/plain": [
              "<Figure size 432x288 with 1 Axes>"
            ]
          },
          "metadata": {
            "tags": []
          }
        },
        {
          "output_type": "display_data",
          "data": {
            "image/png": "[encoded data removed]",
            "text/plain": [
              "<Figure size 432x288 with 1 Axes>"
            ]
          },
          "metadata": {
            "tags": []
          }
        }
      ]
    }
  ]
}